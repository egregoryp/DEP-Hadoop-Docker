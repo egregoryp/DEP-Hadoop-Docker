{
 "cells": [
  {
   "cell_type": "code",
   "execution_count": 2,
   "id": "24878e2c-c21c-4cae-9ef7-5c5d35489582",
   "metadata": {
    "tags": []
   },
   "outputs": [
    {
     "name": "stdout",
     "output_type": "stream",
     "text": [
      "Collecting pyspark\n",
      "  Downloading pyspark-3.3.2.tar.gz (281.4 MB)\n",
      "\u001b[2K     \u001b[90m━━━━━━━━━━━━━━━━━━━━━━━━━━━━━━━━━━━━━━━\u001b[0m \u001b[32m281.4/281.4 MB\u001b[0m \u001b[31m2.0 MB/s\u001b[0m eta \u001b[36m0:00:00\u001b[0m00:01\u001b[0m00:02\u001b[0m\n",
      "\u001b[?25h  Preparing metadata (setup.py) ... \u001b[?25ldone\n",
      "\u001b[?25hCollecting py4j==0.10.9.5\n",
      "  Downloading py4j-0.10.9.5-py2.py3-none-any.whl (199 kB)\n",
      "\u001b[2K     \u001b[90m━━━━━━━━━━━━━━━━━━━━━━━━━━━━━━━━━━━━━━━\u001b[0m \u001b[32m199.7/199.7 KB\u001b[0m \u001b[31m3.0 MB/s\u001b[0m eta \u001b[36m0:00:00\u001b[0ma \u001b[36m0:00:01\u001b[0m\n",
      "\u001b[?25hBuilding wheels for collected packages: pyspark\n",
      "  Building wheel for pyspark (setup.py) ... \u001b[?25ldone\n",
      "\u001b[?25h  Created wheel for pyspark: filename=pyspark-3.3.2-py2.py3-none-any.whl size=281824025 sha256=f28b8d2865e373035f02c8b10498877c15e2a6bf8146d58e7a4e12897287f26c\n",
      "  Stored in directory: /root/.cache/pip/wheels/6c/e3/9b/0525ce8a69478916513509d43693511463c6468db0de237c86\n",
      "Successfully built pyspark\n",
      "Installing collected packages: py4j, pyspark\n",
      "Successfully installed py4j-0.10.9.5 pyspark-3.3.2\n",
      "\u001b[33mWARNING: Running pip as the 'root' user can result in broken permissions and conflicting behaviour with the system package manager. It is recommended to use a virtual environment instead: https://pip.pypa.io/warnings/venv\u001b[0m\u001b[33m\n",
      "\u001b[0m\u001b[33mWARNING: You are using pip version 22.0.4; however, version 23.0.1 is available.\n",
      "You should consider upgrading via the '/usr/local/bin/python -m pip install --upgrade pip' command.\u001b[0m\u001b[33m\n",
      "\u001b[0m"
     ]
    }
   ],
   "source": [
    "! pip install pyspark"
   ]
  },
  {
   "cell_type": "code",
   "execution_count": 11,
   "id": "e36c7fea-4530-45c4-891f-14ed7fabd9dc",
   "metadata": {
    "tags": []
   },
   "outputs": [],
   "source": [
    "\n",
    "from pyspark.sql.types import *\n",
    "from pyspark.sql.window import Window\n",
    "\n",
    "import pyspark.sql.functions as F\n",
    "from pyspark.sql.functions import udf, col"
   ]
  },
  {
   "cell_type": "code",
   "execution_count": 1,
   "id": "8b41148b-e7ca-4abb-ae59-d6bd91549ee8",
   "metadata": {
    "tags": []
   },
   "outputs": [
    {
     "name": "stderr",
     "output_type": "stream",
     "text": [
      "Warning: Ignoring non-Spark config property: hive.metastore.uris\n",
      "Setting default log level to \"WARN\".\n",
      "To adjust logging level use sc.setLogLevel(newLevel). For SparkR, use setLogLevel(newLevel).\n"
     ]
    },
    {
     "name": "stdout",
     "output_type": "stream",
     "text": [
      "23/03/15 19:52:57 WARN NativeCodeLoader: Unable to load native-hadoop library for your platform... using builtin-java classes where applicable\n"
     ]
    }
   ],
   "source": [
    "from pyspark.sql import SparkSession\n",
    "\n",
    "spark = SparkSession.builder \\\n",
    "      .config(\"spark.driver.host\",\"172.27.1.12\") \\\n",
    "      .config('spark.driver.port','8080') \\\n",
    "      .config(\"hive.metastore.uris\", \"thrift://172.27.1.8:9083\")\\\n",
    "      .config(\"spark.sql.warehouse.dir\", \"/users/hive/warehouse\")\\\n",
    "      .enableHiveSupport() \\\n",
    "      .getOrCreate() "
   ]
  },
  {
   "cell_type": "code",
   "execution_count": 4,
   "id": "7b0965ab-0f74-482b-9eef-cbe4beb4f8ae",
   "metadata": {
    "tags": []
   },
   "outputs": [
    {
     "name": "stderr",
     "output_type": "stream",
     "text": [
      "[Stage 0:>                                                          (0 + 1) / 1]\r"
     ]
    },
    {
     "name": "stdout",
     "output_type": "stream",
     "text": [
      "+-----------+----------------------+-------------------+\n",
      "|category_id|category_department_id|category_name      |\n",
      "+-----------+----------------------+-------------------+\n",
      "|1          |2                     |Football           |\n",
      "|2          |2                     |Soccer             |\n",
      "|3          |2                     |Baseball & Softball|\n",
      "|4          |2                     |Basketball         |\n",
      "|5          |2                     |Lacrosse           |\n",
      "|6          |2                     |Tennis & Racquet   |\n",
      "|7          |2                     |Hockey             |\n",
      "|8          |2                     |More Sports        |\n",
      "|9          |3                     |Cardio Equipment   |\n",
      "|10         |3                     |Strength Training  |\n",
      "|11         |3                     |Fitness Accessories|\n",
      "|12         |3                     |Boxing & MMA       |\n",
      "|13         |3                     |Electronics        |\n",
      "|14         |3                     |Yoga & Pilates     |\n",
      "|15         |3                     |Training by Sport  |\n",
      "|16         |3                     |As Seen on  TV!    |\n",
      "|17         |4                     |Cleats             |\n",
      "|18         |4                     |Men's Footwear     |\n",
      "|19         |4                     |Women's Footwear   |\n",
      "|20         |4                     |Kids' Footwear     |\n",
      "+-----------+----------------------+-------------------+\n",
      "only showing top 20 rows\n",
      "\n"
     ]
    },
    {
     "name": "stderr",
     "output_type": "stream",
     "text": [
      "                                                                                \r"
     ]
    }
   ],
   "source": [
    "spark.sql(\"select * from retail_db.categories\").show(truncate=False)"
   ]
  },
  {
   "cell_type": "code",
   "execution_count": 29,
   "id": "a9bdb92c-1c46-4c8e-ac7b-97ed6ad89286",
   "metadata": {
    "tags": []
   },
   "outputs": [
    {
     "name": "stdout",
     "output_type": "stream",
     "text": [
      "+-----------+--------------+--------------+--------------+-----------------+---------------------------+-------------+--------------+----------------+\n",
      "|customer_id|customer_fname|customer_lname|customer_email|customer_password|customer_street            |customer_city|customer_state|customer_zipcode|\n",
      "+-----------+--------------+--------------+--------------+-----------------+---------------------------+-------------+--------------+----------------+\n",
      "|1          |Richard       |Hernandez     |XXXXXXXXX     |XXXXXXXXX        |6303 Heather Plaza         |Brownsville  |TX            |78521           |\n",
      "|2          |Mary          |Barrett       |XXXXXXXXX     |XXXXXXXXX        |9526 Noble Embers Ridge    |Littleton    |CO            |80126           |\n",
      "|3          |Ann           |Smith         |XXXXXXXXX     |XXXXXXXXX        |3422 Blue Pioneer Bend     |Caguas       |PR            |00725           |\n",
      "|4          |Mary          |Jones         |XXXXXXXXX     |XXXXXXXXX        |8324 Little Common         |San Marcos   |CA            |92069           |\n",
      "|5          |Robert        |Hudson        |XXXXXXXXX     |XXXXXXXXX        |10 Crystal River Mall      |Caguas       |PR            |00725           |\n",
      "|6          |Mary          |Smith         |XXXXXXXXX     |XXXXXXXXX        |3151 Sleepy Quail Promenade|Passaic      |NJ            |07055           |\n",
      "|7          |Melissa       |Wilcox        |XXXXXXXXX     |XXXXXXXXX        |9453 High Concession       |Caguas       |PR            |00725           |\n",
      "|8          |Megan         |Smith         |XXXXXXXXX     |XXXXXXXXX        |3047 Foggy Forest Plaza    |Lawrence     |MA            |01841           |\n",
      "|9          |Mary          |Perez         |XXXXXXXXX     |XXXXXXXXX        |3616 Quaking Street        |Caguas       |PR            |00725           |\n",
      "|10         |Melissa       |Smith         |XXXXXXXXX     |XXXXXXXXX        |8598 Harvest Beacon Plaza  |Stafford     |VA            |22554           |\n",
      "|11         |Mary          |Huffman       |XXXXXXXXX     |XXXXXXXXX        |3169 Stony Woods           |Caguas       |PR            |00725           |\n",
      "|12         |Christopher   |Smith         |XXXXXXXXX     |XXXXXXXXX        |5594 Jagged Embers By-pass |San Antonio  |TX            |78227           |\n",
      "|13         |Mary          |Baldwin       |XXXXXXXXX     |XXXXXXXXX        |7922 Iron Oak Gardens      |Caguas       |PR            |00725           |\n",
      "|14         |Katherine     |Smith         |XXXXXXXXX     |XXXXXXXXX        |5666 Hazy Pony Square      |Pico Rivera  |CA            |90660           |\n",
      "|15         |Jane          |Luna          |XXXXXXXXX     |XXXXXXXXX        |673 Burning Glen           |Fontana      |CA            |92336           |\n",
      "|16         |Tiffany       |Smith         |XXXXXXXXX     |XXXXXXXXX        |6651 Iron Port             |Caguas       |PR            |00725           |\n",
      "|17         |Mary          |Robinson      |XXXXXXXXX     |XXXXXXXXX        |1325 Noble Pike            |Taylor       |MI            |48180           |\n",
      "|18         |Robert        |Smith         |XXXXXXXXX     |XXXXXXXXX        |2734 Hazy Butterfly Circle |Martinez     |CA            |94553           |\n",
      "|19         |Stephanie     |Mitchell      |XXXXXXXXX     |XXXXXXXXX        |3543 Red Treasure Bay      |Caguas       |PR            |00725           |\n",
      "|20         |Mary          |Ellis         |XXXXXXXXX     |XXXXXXXXX        |4703 Old Route             |West New York|NJ            |07093           |\n",
      "+-----------+--------------+--------------+--------------+-----------------+---------------------------+-------------+--------------+----------------+\n",
      "only showing top 20 rows\n",
      "\n"
     ]
    }
   ],
   "source": [
    "spark.sql(\"select * from retail_db.customers\").show(truncate=False)"
   ]
  },
  {
   "cell_type": "code",
   "execution_count": 30,
   "id": "b36d97d2-d296-4854-a528-b038099bf676",
   "metadata": {
    "tags": []
   },
   "outputs": [
    {
     "name": "stdout",
     "output_type": "stream",
     "text": [
      "+-------------+---------------+\n",
      "|department_id|department_name|\n",
      "+-------------+---------------+\n",
      "|2            |Fitness        |\n",
      "|3            |Footwear       |\n",
      "|4            |Apparel        |\n",
      "|5            |Golf           |\n",
      "|6            |Outdoors       |\n",
      "|7            |Fan Shop       |\n",
      "+-------------+---------------+\n",
      "\n"
     ]
    }
   ],
   "source": [
    "spark.sql(\"select * from retail_db.departments\").show(truncate=False)"
   ]
  },
  {
   "cell_type": "code",
   "execution_count": 31,
   "id": "0541c55e-ebb6-4207-a961-55dea82a98e4",
   "metadata": {
    "tags": []
   },
   "outputs": [
    {
     "name": "stdout",
     "output_type": "stream",
     "text": [
      "+--------+---------------------+-----------------+---------------+\n",
      "|order_id|order_date           |order_customer_id|order_status   |\n",
      "+--------+---------------------+-----------------+---------------+\n",
      "|1       |2013-07-25 00:00:00.0|11599            |CLOSED         |\n",
      "|2       |2013-07-25 00:00:00.0|256              |PENDING_PAYMENT|\n",
      "|3       |2013-07-25 00:00:00.0|12111            |COMPLETE       |\n",
      "|4       |2013-07-25 00:00:00.0|8827             |CLOSED         |\n",
      "|5       |2013-07-25 00:00:00.0|11318            |COMPLETE       |\n",
      "|6       |2013-07-25 00:00:00.0|7130             |COMPLETE       |\n",
      "|7       |2013-07-25 00:00:00.0|4530             |COMPLETE       |\n",
      "|8       |2013-07-25 00:00:00.0|2911             |PROCESSING     |\n",
      "|9       |2013-07-25 00:00:00.0|5657             |PENDING_PAYMENT|\n",
      "|10      |2013-07-25 00:00:00.0|5648             |PENDING_PAYMENT|\n",
      "|11      |2013-07-25 00:00:00.0|918              |PAYMENT_REVIEW |\n",
      "|12      |2013-07-25 00:00:00.0|1837             |CLOSED         |\n",
      "|13      |2013-07-25 00:00:00.0|9149             |PENDING_PAYMENT|\n",
      "|14      |2013-07-25 00:00:00.0|9842             |PROCESSING     |\n",
      "|15      |2013-07-25 00:00:00.0|2568             |COMPLETE       |\n",
      "|16      |2013-07-25 00:00:00.0|7276             |PENDING_PAYMENT|\n",
      "|17      |2013-07-25 00:00:00.0|2667             |COMPLETE       |\n",
      "|18      |2013-07-25 00:00:00.0|1205             |CLOSED         |\n",
      "|19      |2013-07-25 00:00:00.0|9488             |PENDING_PAYMENT|\n",
      "|20      |2013-07-25 00:00:00.0|9198             |PROCESSING     |\n",
      "+--------+---------------------+-----------------+---------------+\n",
      "only showing top 20 rows\n",
      "\n"
     ]
    }
   ],
   "source": [
    "spark.sql(\"select * from retail_db.orders\").show(truncate=False)"
   ]
  },
  {
   "cell_type": "code",
   "execution_count": 32,
   "id": "58fac0bf-151a-46a5-a835-4fd4e8c2a11b",
   "metadata": {
    "tags": []
   },
   "outputs": [
    {
     "name": "stdout",
     "output_type": "stream",
     "text": [
      "+-------------+-------------------+---------------------+-------------------+-------------------+------------------------+\n",
      "|order_item_id|order_item_order_id|order_item_product_id|order_item_quantity|order_item_subtotal|order_item_product_price|\n",
      "+-------------+-------------------+---------------------+-------------------+-------------------+------------------------+\n",
      "|1            |1                  |957                  |1                  |299.98             |299.98                  |\n",
      "|2            |2                  |1073                 |1                  |199.99             |199.99                  |\n",
      "|3            |2                  |502                  |5                  |250.0              |50.0                    |\n",
      "|4            |2                  |403                  |1                  |129.99             |129.99                  |\n",
      "|5            |4                  |897                  |2                  |49.98              |24.99                   |\n",
      "|6            |4                  |365                  |5                  |299.95             |59.99                   |\n",
      "|7            |4                  |502                  |3                  |150.0              |50.0                    |\n",
      "|8            |4                  |1014                 |4                  |199.92             |49.98                   |\n",
      "|9            |5                  |957                  |1                  |299.98             |299.98                  |\n",
      "|10           |5                  |365                  |5                  |299.95             |59.99                   |\n",
      "|11           |5                  |1014                 |2                  |99.96              |49.98                   |\n",
      "|12           |5                  |957                  |1                  |299.98             |299.98                  |\n",
      "|13           |5                  |403                  |1                  |129.99             |129.99                  |\n",
      "|14           |7                  |1073                 |1                  |199.99             |199.99                  |\n",
      "|15           |7                  |957                  |1                  |299.98             |299.98                  |\n",
      "|16           |7                  |926                  |5                  |79.95              |15.99                   |\n",
      "|17           |8                  |365                  |3                  |179.97             |59.99                   |\n",
      "|18           |8                  |365                  |5                  |299.95             |59.99                   |\n",
      "|19           |8                  |1014                 |4                  |199.92             |49.98                   |\n",
      "|20           |8                  |502                  |1                  |50.0               |50.0                    |\n",
      "+-------------+-------------------+---------------------+-------------------+-------------------+------------------------+\n",
      "only showing top 20 rows\n",
      "\n"
     ]
    }
   ],
   "source": [
    "spark.sql(\"select * from retail_db.order_items\").show(truncate=False)"
   ]
  },
  {
   "cell_type": "code",
   "execution_count": 33,
   "id": "a1b906c2-cac5-4430-ab38-9f616c08995e",
   "metadata": {
    "tags": []
   },
   "outputs": [
    {
     "name": "stdout",
     "output_type": "stream",
     "text": [
      "+----------+-------------------+---------------------------------------------+-------------------+-------------+------------------------------------------------------------------------------------------------+\n",
      "|product_id|product_category_id|product_name                                 |product_description|product_price|product_image                                                                                   |\n",
      "+----------+-------------------+---------------------------------------------+-------------------+-------------+------------------------------------------------------------------------------------------------+\n",
      "|1         |2                  |Quest Q64 10 FT. x 10 FT. Slant Leg Instant U|                   |59.98        |http://images.acmesports.sports/Quest+Q64+10+FT.+x+10+FT.+Slant+Leg+Instant+Up+Canopy           |\n",
      "|2         |2                  |Under Armour Men's Highlight MC Football Clea|                   |129.99       |http://images.acmesports.sports/Under+Armour+Men%27s+Highlight+MC+Football+Cleat                |\n",
      "|3         |2                  |Under Armour Men's Renegade D Mid Football Cl|                   |89.99        |http://images.acmesports.sports/Under+Armour+Men%27s+Renegade+D+Mid+Football+Cleat              |\n",
      "|4         |2                  |Under Armour Men's Renegade D Mid Football Cl|                   |89.99        |http://images.acmesports.sports/Under+Armour+Men%27s+Renegade+D+Mid+Football+Cleat              |\n",
      "|5         |2                  |Riddell Youth Revolution Speed Custom Footbal|                   |199.99       |http://images.acmesports.sports/Riddell+Youth+Revolution+Speed+Custom+Football+Helmet           |\n",
      "|6         |2                  |Jordan Men's VI Retro TD Football Cleat      |                   |134.99       |http://images.acmesports.sports/Jordan+Men%27s+VI+Retro+TD+Football+Cleat                       |\n",
      "|7         |2                  |Schutt Youth Recruit Hybrid Custom Football H|                   |99.99        |http://images.acmesports.sports/Schutt+Youth+Recruit+Hybrid+Custom+Football+Helmet+2014         |\n",
      "|8         |2                  |Nike Men's Vapor Carbon Elite TD Football Cle|                   |129.99       |http://images.acmesports.sports/Nike+Men%27s+Vapor+Carbon+Elite+TD+Football+Cleat               |\n",
      "|9         |2                  |Nike Adult Vapor Jet 3.0 Receiver Gloves     |                   |50.0         |http://images.acmesports.sports/Nike+Adult+Vapor+Jet+3.0+Receiver+Gloves                        |\n",
      "|10        |2                  |Under Armour Men's Highlight MC Football Clea|                   |129.99       |http://images.acmesports.sports/Under+Armour+Men%27s+Highlight+MC+Football+Cleat                |\n",
      "|11        |2                  |Fitness Gear 300 lb Olympic Weight Set       |                   |209.99       |http://images.acmesports.sports/Fitness+Gear+300+lb+Olympic+Weight+Set                          |\n",
      "|12        |2                  |Under Armour Men's Highlight MC Alter Ego Fla|                   |139.99       |http://images.acmesports.sports/Under+Armour+Men%27s+Highlight+MC+Alter+Ego+Flash+Football...   |\n",
      "|13        |2                  |Under Armour Men's Renegade D Mid Football Cl|                   |89.99        |http://images.acmesports.sports/Under+Armour+Men%27s+Renegade+D+Mid+Football+Cleat              |\n",
      "|14        |2                  |Quik Shade Summit SX170 10 FT. x 10 FT. Canop|                   |199.99       |http://images.acmesports.sports/Quik+Shade+Summit+SX170+10+FT.+x+10+FT.+Canopy                  |\n",
      "|15        |2                  |Under Armour Kids' Highlight RM Alter Ego Sup|                   |59.99        |http://images.acmesports.sports/Under+Armour+Kids%27+Highlight+RM+Alter+Ego+Superman+Football...|\n",
      "|16        |2                  |Riddell Youth 360 Custom Football Helmet     |                   |299.99       |http://images.acmesports.sports/Riddell+Youth+360+Custom+Football+Helmet                        |\n",
      "|17        |2                  |Under Armour Men's Highlight MC Football Clea|                   |129.99       |http://images.acmesports.sports/Under+Armour+Men%27s+Highlight+MC+Football+Cleat                |\n",
      "|18        |2                  |Reebok Men's Full Zip Training Jacket        |                   |29.97        |http://images.acmesports.sports/Reebok+Men%27s+Full+Zip+Training+Jacket                         |\n",
      "|19        |2                  |Nike Men's Fingertrap Max Training Shoe      |                   |124.99       |http://images.acmesports.sports/Nike+Men%27s+Fingertrap+Max+Training+Shoe                       |\n",
      "|20        |2                  |Under Armour Men's Highlight MC Football Clea|                   |129.99       |http://images.acmesports.sports/Under+Armour+Men%27s+Highlight+MC+Football+Cleat                |\n",
      "+----------+-------------------+---------------------------------------------+-------------------+-------------+------------------------------------------------------------------------------------------------+\n",
      "only showing top 20 rows\n",
      "\n"
     ]
    }
   ],
   "source": [
    "spark.sql(\"select * from retail_db.products\").show(truncate=False)"
   ]
  },
  {
   "cell_type": "markdown",
   "id": "1f8fe072-3dda-4eed-b530-c2d5384a3cb6",
   "metadata": {},
   "source": [
    "### Enunciado 1\n",
    "Mostrar un Top 20 de clientes que mas productos compraron con sus respectivos montos."
   ]
  },
  {
   "cell_type": "code",
   "execution_count": 34,
   "id": "ad8c8d1d-37c6-435f-854a-a387457e91bb",
   "metadata": {
    "tags": []
   },
   "outputs": [
    {
     "name": "stderr",
     "output_type": "stream",
     "text": [
      "[Stage 16:>                                                         (0 + 4) / 4]\r"
     ]
    },
    {
     "name": "stdout",
     "output_type": "stream",
     "text": [
      "+-----------+--------------+--------------+--------------+-------------------+------------------+\n",
      "|customer_id|customer_fname|customer_lname|customer_email|quantity_item_total|             total|\n",
      "+-----------+--------------+--------------+--------------+-------------------+------------------+\n",
      "|        791|          Mary|         Smith|     XXXXXXXXX|                 82|10524.170177459717|\n",
      "|       8766|          Mary|        Duncan|     XXXXXXXXX|                 87| 9296.140186309814|\n",
      "|       1657|         Betty|      Phillips|     XXXXXXXXX|                111| 9223.710151672363|\n",
      "|       2641|         Betty|        Spears|     XXXXXXXXX|                 90| 9130.920223236084|\n",
      "|       1288|        Evelyn|      Thompson|     XXXXXXXXX|                 89|  9019.11019897461|\n",
      "|       3710|        Ashley|         Smith|     XXXXXXXXX|                 89|  9019.10020828247|\n",
      "|       5654|         Jerry|         Smith|     XXXXXXXXX|                103| 8904.950210571289|\n",
      "|       5624|          Mary|          Mata|     XXXXXXXXX|                 89| 8761.980182647705|\n",
      "|       5715|         Kelly|         Smith|     XXXXXXXXX|                 99| 8595.130157470703|\n",
      "|        664|         Bobby|       Jimenez|     XXXXXXXXX|                 76| 8394.260208129883|\n",
      "|       9371|          Mary|     Patterson|     XXXXXXXXX|                 79| 8359.140188217163|\n",
      "|      10351|        Teresa|          Gray|     XXXXXXXXX|                 69| 8339.260166168213|\n",
      "|       2292|        Ashley|         Smith|     XXXXXXXXX|                 91|  8293.04016494751|\n",
      "|       4663|          Paul|         Smith|     XXXXXXXXX|                 91| 8279.890161514282|\n",
      "|       3708|          Judy|        Miller|     XXXXXXXXX|                 82|  8275.09017944336|\n",
      "|       4249|          Mary|        Butler|     XXXXXXXXX|                 87| 8268.980131149292|\n",
      "|      12284|          Mary|         Smith|     XXXXXXXXX|                110| 8258.620170593262|\n",
      "|       5927|   Christopher|        Cooper|     XXXXXXXXX|                 82| 8169.130199432373|\n",
      "|       5004|       Dorothy|      Friedman|     XXXXXXXXX|                114| 8164.700141906738|\n",
      "|       1443|        Denise|         Cohen|     XXXXXXXXX|                 86| 8150.130157470703|\n",
      "+-----------+--------------+--------------+--------------+-------------------+------------------+\n",
      "\n"
     ]
    },
    {
     "name": "stderr",
     "output_type": "stream",
     "text": [
      "                                                                                \r"
     ]
    }
   ],
   "source": [
    "spark.sql(\"\"\"SELECT\n",
    "    customer_id, customer_fname, customer_lname, customer_email, sum(order_item_quantity) as quantity_item_total, sum(order_item_subtotal)as total\n",
    "FROM\n",
    "    retail_db.customers as c\n",
    "INNER JOIN\n",
    "    retail_db.orders as o\n",
    "    ON c.customer_id = o.order_customer_id\n",
    "INNER JOIN\n",
    "    retail_db.order_items as oi\n",
    "    ON o.order_id = oi.order_item_order_id\n",
    "WHERE order_status <> 'CANCELED'\n",
    "GROUP BY customer_id, customer_fname, customer_lname, customer_email\n",
    "ORDER BY  total DESC\n",
    "LIMIT 20\"\"\").show()"
   ]
  },
  {
   "cell_type": "markdown",
   "id": "a02422d7-99b2-4c87-a46b-92e4f82fe94c",
   "metadata": {},
   "source": [
    "### Enunciado 2\n",
    "Mostrar las categorías con el total de productos vendidos y los montos totales por categoría"
   ]
  },
  {
   "cell_type": "code",
   "execution_count": 36,
   "id": "2e927a68-6441-46f9-a3a1-f19fd5a85354",
   "metadata": {
    "tags": []
   },
   "outputs": [
    {
     "name": "stdout",
     "output_type": "stream",
     "text": [
      "23/03/15 20:51:03 WARN LazyStruct: Extra bytes detected at the end of the row! Ignoring similar problems.\n",
      "+-------------------+-------------+-------+\n",
      "|      category_name|item_quantity|  total|\n",
      "+-------------------+-------------+-------+\n",
      "|   Camping & Hiking|        13729|4118425|\n",
      "|Fitness Accessories|          856|  35601|\n",
      "|         Golf Shoes|         1444| 107998|\n",
      "|     Men's Footwear|        22246|2891757|\n",
      "|        Electronics|         9436| 371034|\n",
      "|    Women's Apparel|        62956|3147800|\n",
      "|     Girls' Apparel|         3615| 151706|\n",
      "|       Boxing & MMA|         1265|  85205|\n",
      "|Baseball & Softball|         1785|  94057|\n",
      "| Hunting & Shooting|         1239|  56848|\n",
      "|       Golf Apparel|         1025|  34969|\n",
      "|           Trade-In|         2822|  68721|\n",
      "|      Shop By Sport|        32726|1309522|\n",
      "|            Fishing|        17325|6929653|\n",
      "|       Water Sports|        15540|3113844|\n",
      "|        Accessories|         5349| 133671|\n",
      "|        Golf Gloves|         2961| 116695|\n",
      "|             Cleats|        73734|4431942|\n",
      "|         Golf Balls|         4384|  77098|\n",
      "|             Hockey|         1711|  48360|\n",
      "+-------------------+-------------+-------+\n",
      "only showing top 20 rows\n",
      "\n"
     ]
    },
    {
     "name": "stderr",
     "output_type": "stream",
     "text": [
      "                                                                                \r"
     ]
    }
   ],
   "source": [
    "spark.sql(\"\"\"SELECT\n",
    "    ca.category_name, sum(order_item_quantity) as item_quantity, cast(sum(order_item_subtotal) AS INT )as total\n",
    "FROM retail_db.order_items as oi\n",
    "INNER JOIN\n",
    "    retail_db.products as p\n",
    "    ON oi.order_item_product_id = p.product_id\n",
    "INNER JOIN\n",
    "    retail_db.categories as ca\n",
    "    ON p.product_category_id = ca.category_id\n",
    "GROUP BY ca.category_name;\n",
    "\"\"\").show()"
   ]
  },
  {
   "cell_type": "markdown",
   "id": "bc3d8ccf-1103-499d-aa05-73b0756efd08",
   "metadata": {},
   "source": [
    "### Enunciado 3\n",
    "Mostrar la categoría más vendida por ciudad"
   ]
  },
  {
   "cell_type": "code",
   "execution_count": 37,
   "id": "aba5d0ec-5bba-43a0-92c4-48ff032e0eaa",
   "metadata": {
    "tags": []
   },
   "outputs": [
    {
     "name": "stdout",
     "output_type": "stream",
     "text": [
      "23/03/15 20:51:44 WARN LazyStruct: Extra bytes detected at the end of the row! Ignoring similar problems.\n",
      "+-----------------+--------------------+\n",
      "|    customer_city|       category_name|\n",
      "+-----------------+--------------------+\n",
      "|        Aguadilla|              Cleats|\n",
      "|          Alameda|              Cleats|\n",
      "|           Albany|     Women's Apparel|\n",
      "|      Albuquerque|              Cleats|\n",
      "|        Algonquin|              Cleats|\n",
      "|         Alhambra|     Women's Apparel|\n",
      "|        Allentown|              Cleats|\n",
      "|       Alpharetta|      Men's Footwear|\n",
      "|         Amarillo|              Cleats|\n",
      "|         Amarillo|Indoor/Outdoor Games|\n",
      "|          Anaheim|     Women's Apparel|\n",
      "|        Ann Arbor|     Women's Apparel|\n",
      "|        Annandale|      Men's Footwear|\n",
      "|        Annapolis|      Men's Footwear|\n",
      "|          Antioch|Indoor/Outdoor Games|\n",
      "|             Apex|              Cleats|\n",
      "|           Apopka|             Fishing|\n",
      "|          Arecibo|     Women's Apparel|\n",
      "|        Arlington|     Women's Apparel|\n",
      "|Arlington Heights|     Women's Apparel|\n",
      "+-----------------+--------------------+\n",
      "only showing top 20 rows\n",
      "\n"
     ]
    }
   ],
   "source": [
    "spark.sql(\"\"\"\n",
    "SELECT\n",
    "    customer_city, category_name\n",
    "FROM (SELECT\n",
    "    customer_city, category_name, count(category_name) as quantity, DENSE_RANK () OVER ( \n",
    "                PARTITION BY customer_city \n",
    "                ORDER BY count(category_name) DESC\n",
    "            ) rank\n",
    "    FROM\n",
    "        retail_db.customers as c\n",
    "    INNER JOIN\n",
    "        retail_db.orders as o\n",
    "        ON c.customer_id = o.order_customer_id\n",
    "    INNER JOIN\n",
    "        retail_db.order_items as oi\n",
    "        ON o.order_id = oi.order_item_order_id\n",
    "    INNER JOIN\n",
    "        retail_db.products as p\n",
    "        ON oi.order_item_product_id = p.product_id\n",
    "    INNER JOIN\n",
    "        retail_db.categories as ca\n",
    "        ON p.product_category_id = ca.category_id\n",
    "    GROUP BY customer_city, category_name\n",
    "    ) t\n",
    "WHERE rank = 1;\"\"\").show()"
   ]
  },
  {
   "cell_type": "markdown",
   "id": "b81df90c-fab3-44dc-a485-b063f806a9ef",
   "metadata": {},
   "source": [
    "### Enunciado 4\n",
    "Mostrar los 5 productos más vendidos por cada ciudad y el monto recaudado"
   ]
  },
  {
   "cell_type": "code",
   "execution_count": 38,
   "id": "985160ac-0c23-43be-87c9-45b3c2b5db00",
   "metadata": {
    "tags": []
   },
   "outputs": [
    {
     "name": "stdout",
     "output_type": "stream",
     "text": [
      "23/03/15 20:52:20 WARN LazyStruct: Extra bytes detected at the end of the row! Ignoring similar problems.\n"
     ]
    },
    {
     "name": "stderr",
     "output_type": "stream",
     "text": [
      "[Stage 37:>                                                         (0 + 4) / 4]\r"
     ]
    },
    {
     "name": "stdout",
     "output_type": "stream",
     "text": [
      "+-------------+--------------------+--------+------------------+\n",
      "|customer_city|        product_name|quantity|             total|\n",
      "+-------------+--------------------+--------+------------------+\n",
      "|       Caguas|Perfect Fitness P...|   27276|1636287.2855148315|\n",
      "|       Caguas|Nike Men's Dri-FI...|   23355|         1167750.0|\n",
      "|       Caguas|O'Brien Men's Neo...|   21590|1079068.1897773743|\n",
      "|       Caguas|Nike Men's Free 5...|   13530|1352864.6990203857|\n",
      "|       Caguas|Under Armour Girl...|   11713| 468402.8778114319|\n",
      "|      Chicago|Perfect Fitness P...|    1540| 92384.60255813599|\n",
      "|  Los Angeles|Perfect Fitness P...|    1423| 85365.77238464355|\n",
      "|      Chicago|Nike Men's Dri-FI...|    1391|           69550.0|\n",
      "|      Chicago|O'Brien Men's Neo...|    1278| 63874.43938827515|\n",
      "|     Brooklyn|Perfect Fitness P...|    1251| 75047.49206924438|\n",
      "|     Brooklyn|Nike Men's Dri-FI...|    1237|           61850.0|\n",
      "|  Los Angeles|Nike Men's Dri-FI...|    1194|           59700.0|\n",
      "|     Brooklyn|O'Brien Men's Neo...|    1185|59226.299503326416|\n",
      "|  Los Angeles|O'Brien Men's Neo...|    1120|55977.599559783936|\n",
      "|      Chicago|Nike Men's Free 5...|     789| 78892.11010742188|\n",
      "|  Los Angeles|Nike Men's Free 5...|     737|  73692.6298751831|\n",
      "|     Brooklyn|Nike Men's Free 5...|     721| 72092.78977966309|\n",
      "|     New York|Perfect Fitness P...|     719| 43132.81119918823|\n",
      "|        Bronx|Perfect Fitness P...|     688| 41273.12115097046|\n",
      "|     New York|Nike Men's Dri-FI...|     661|           33050.0|\n",
      "+-------------+--------------------+--------+------------------+\n",
      "only showing top 20 rows\n",
      "\n"
     ]
    },
    {
     "name": "stderr",
     "output_type": "stream",
     "text": [
      "                                                                                \r"
     ]
    }
   ],
   "source": [
    "spark.sql(\"\"\"\n",
    "SELECT\n",
    "    customer_city, product_name, quantity, total\n",
    "FROM (SELECT\n",
    "    customer_city, product_name,sum(order_item_quantity) as quantity,sum(order_item_subtotal) as total, DENSE_RANK () OVER ( \n",
    "                PARTITION BY customer_city \n",
    "                ORDER BY sum(order_item_quantity) DESC\n",
    "            ) rank\n",
    "    FROM\n",
    "        retail_db.customers as c\n",
    "    INNER JOIN\n",
    "        retail_db.orders as o\n",
    "        ON c.customer_id = o.order_customer_id\n",
    "    INNER JOIN\n",
    "        retail_db.order_items as oi\n",
    "        ON o.order_id = oi.order_item_order_id\n",
    "    INNER JOIN\n",
    "        retail_db.products as p\n",
    "        ON oi.order_item_product_id = p.product_id\n",
    "    GROUP BY customer_city, product_name\n",
    "    ) t\n",
    "WHERE rank < 6\n",
    "ORDER BY quantity DESC;\n",
    "\"\"\").show()"
   ]
  },
  {
   "cell_type": "code",
   "execution_count": null,
   "id": "169cbead-c7bc-45a1-8c04-34b6423fafd7",
   "metadata": {},
   "outputs": [],
   "source": []
  }
 ],
 "metadata": {
  "kernelspec": {
   "display_name": "Python 3 (ipykernel)",
   "language": "python",
   "name": "python3"
  },
  "language_info": {
   "codemirror_mode": {
    "name": "ipython",
    "version": 3
   },
   "file_extension": ".py",
   "mimetype": "text/x-python",
   "name": "python",
   "nbconvert_exporter": "python",
   "pygments_lexer": "ipython3",
   "version": "3.9.16"
  }
 },
 "nbformat": 4,
 "nbformat_minor": 5
}
